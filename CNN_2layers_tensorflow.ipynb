{
 "cells": [
  {
   "cell_type": "code",
   "execution_count": 96,
   "metadata": {
    "collapsed": true
   },
   "outputs": [],
   "source": [
    "import numpy as np\n",
    "import pandas as pd\n",
    "import matplotlib.pyplot as plt\n",
    "import matplotlib.cm as cm\n",
    "import tensorflow as tf\n",
    "from sklearn.model_selection import train_test_split\n",
    "from sklearn import preprocessing\n",
    "%matplotlib inline"
   ]
  },
  {
   "cell_type": "code",
   "execution_count": 97,
   "metadata": {
    "collapsed": true
   },
   "outputs": [],
   "source": [
    "# settings\n",
    "LEARNING_RATE = 0.0004\n",
    "TRAINING_ITERATIONS = 2500    \n",
    "DROPOUT = 0.2\n",
    "BATCH_SIZE = 100\n",
    "\n",
    "# Demo/test image\n",
    "IMAGE_TO_DISPLAY = 10"
   ]
  },
  {
   "cell_type": "code",
   "execution_count": 98,
   "metadata": {
    "collapsed": false
   },
   "outputs": [
    {
     "name": "stdout",
     "output_type": "stream",
     "text": [
      "train shape = (42000, 785)\n",
      "test shape = (28000, 784)\n"
     ]
    }
   ],
   "source": [
    "# read training data from CSV file \n",
    "data = pd.read_csv('train.csv')\n",
    "test = pd.read_csv('test.csv')\n",
    "print('train shape = {}'.format(data.shape))\n",
    "print('test shape = {}'.format(test.shape))\n"
   ]
  },
  {
   "cell_type": "code",
   "execution_count": 99,
   "metadata": {
    "collapsed": false,
    "scrolled": true
   },
   "outputs": [
    {
     "name": "stdout",
     "output_type": "stream",
     "text": [
      "labels number : 10\n"
     ]
    },
    {
     "data": {
      "image/png": "[encoded data removed]",
      "text/plain": [
       "<matplotlib.figure.Figure at 0xc187bfcb00>"
      ]
     },
     "metadata": {},
     "output_type": "display_data"
    }
   ],
   "source": [
    "images = data.iloc[:,1:].values\n",
    "images = images.astype(float)\n",
    "images = np.multiply(images,1/255)\n",
    "label = data['label'].values.ravel()\n",
    "NumLabels = np.unique(label).shape[0]\n",
    "print('labels number : {}'.format(NumLabels))\n",
    "\n",
    "width = 28 \n",
    "height = 28\n",
    "\n",
    "# display image\n",
    "def display(img):    \n",
    "    # (784) => (28,28)\n",
    "    one_image = img.reshape(width,height)\n",
    "    plt.imshow(one_image, cmap=cm.binary)\n",
    "\n",
    "# output image     \n",
    "display(images[1])"
   ]
  },
  {
   "cell_type": "code",
   "execution_count": 100,
   "metadata": {
    "collapsed": false
   },
   "outputs": [
    {
     "name": "stdout",
     "output_type": "stream",
     "text": [
      "[[0 1 0 ..., 0 0 0]\n",
      " [1 0 0 ..., 0 0 0]\n",
      " [0 1 0 ..., 0 0 0]\n",
      " ..., \n",
      " [0 0 0 ..., 1 0 0]\n",
      " [0 0 0 ..., 0 0 0]\n",
      " [0 0 0 ..., 0 0 1]]\n"
     ]
    }
   ],
   "source": [
    "# convert class labels from scalars to one-hot vectors\n",
    "def dense_to_one_hot(label, num_classes):\n",
    "    num_labels = label.shape[0]\n",
    "    index_offset = np.arange(num_labels) * num_classes\n",
    "    labels_one_hot = np.zeros((num_labels, num_classes))\n",
    "    labels_one_hot.flat[index_offset + label.ravel()] = 1\n",
    "    return labels_one_hot\n",
    "\n",
    "labels = dense_to_one_hot(label, NumLabels)\n",
    "labels = labels.astype(np.uint8)\n",
    "print(labels)"
   ]
  },
  {
   "cell_type": "code",
   "execution_count": 101,
   "metadata": {
    "collapsed": false
   },
   "outputs": [
    {
     "name": "stdout",
     "output_type": "stream",
     "text": [
      "(33600, 784) (33600, 10)\n",
      "(8400, 784) (8400, 10)\n"
     ]
    },
    {
     "data": {
      "text/plain": [
       "'\\nvalidation_images = images[:VALIDATION_SIZE]\\nvalidation_labels = labels[:VALIDATION_SIZE]\\n\\ntrain_images = images[VALIDATION_SIZE:]\\ntrain_labels = labels[VALIDATION_SIZE:]\\n\\n'"
      ]
     },
     "execution_count": 101,
     "metadata": {},
     "output_type": "execute_result"
    }
   ],
   "source": [
    "# split data into training & validation\n",
    "\n",
    "x_train, x_val, y_train, y_val = train_test_split(images, labels, test_size=0.20, random_state=33)\n",
    "\n",
    "print (x_train.shape, y_train.shape)\n",
    "print (x_val.shape, y_val.shape)\n",
    "\n"
   ]
  },
  {
   "cell_type": "code",
   "execution_count": 102,
   "metadata": {
    "collapsed": true
   },
   "outputs": [],
   "source": [
    "def weight_variable(shape):\n",
    "    initial = tf.truncated_normal(shape, stddev=0.1)\n",
    "    return tf.Variable(initial)\n",
    "\n",
    "def bias_variable(shape):\n",
    "    initial = tf.constant(0.1, shape=shape)\n",
    "    return tf.Variable(initial)\n",
    "\n",
    "def conv2d(x, W):\n",
    "    return tf.nn.conv2d(x, W, strides=[1, 1, 1, 1], padding='SAME')\n",
    "\n",
    "def max_pool_2x2(x):\n",
    "    return tf.nn.max_pool(x, ksize=[1,2,2,1], strides=[1,2,2,1], padding='SAME')\n",
    "\n",
    "def compute_accuracy(x_train, y_train):\n",
    "    global prediction\n",
    "    y_pre = sess.run(prediction, feed_dict={x: x_train, keep_prob: 1})\n",
    "    correct_prediction = tf.equal(tf.argmax(y_pre,1), tf.argmax(y_train,1))\n",
    "    accuracy = tf.reduce_mean(tf.cast(correct_prediction, tf.float32))\n",
    "    result = sess.run(accuracy, feed_dict={x: x_train, ys: y, y_train: 1})\n",
    "    return result\n"
   ]
  },
  {
   "cell_type": "code",
   "execution_count": 103,
   "metadata": {
    "collapsed": false
   },
   "outputs": [],
   "source": [
    "# define placeholder for inputs to network\n",
    "\n",
    "x = tf.placeholder('float32', shape=[None, 784])\n",
    "y = tf.placeholder('float32', shape=[None, NumLabels])\n",
    "keep_prob = tf.placeholder(tf.float32)\n",
    "x_image = tf.reshape(x, [-1, 28, 28, 1])\n",
    "\n",
    "## conv1 layer ##\n",
    "W_conv1 = weight_variable([5,5, 1,32]) # patch 5x5, in size 1, out size 32\n",
    "b_conv1 = bias_variable([32])\n",
    "h_conv1 = tf.nn.relu(conv2d(x_image, W_conv1) + b_conv1) \n",
    "h_pool1 = max_pool_2x2(h_conv1)               \n",
    "\n",
    "## conv2 layer ##\n",
    "W_conv2 = weight_variable([5,5, 32, 64]) # patch 5x5, in size 32, out size 64\n",
    "b_conv2 = bias_variable([64])\n",
    "h_conv2 = tf.nn.relu(conv2d(h_pool1, W_conv2) + b_conv2) \n",
    "h_pool2 = max_pool_2x2(h_conv2)                           # output size 7x7x64\n",
    "\n",
    "\n",
    "## fc1 layer ##\n",
    "# densely connected layer\n",
    "W_fc1 = weight_variable([7*7*64, 1024])\n",
    "b_fc1 = bias_variable([1024])\n",
    "\n",
    "# [n_samples, 7, 7, 64] ->> [n_samples, 7*7*64]\n",
    "h_pool2_flat = tf.reshape(h_pool2, [-1, 7*7*64])\n",
    "h_fc1 = tf.nn.relu(tf.matmul(h_pool2_flat, W_fc1) + b_fc1)\n",
    "h_fc1_drop = tf.nn.dropout(h_fc1, keep_prob)\n",
    "#=> (40000, 1024)\n",
    "\n",
    "## fc2 layer ##\n",
    "W_fc2 = weight_variable([1024, 10])\n",
    "b_fc2 = bias_variable([10])\n",
    "y_pred = tf.nn.softmax(tf.matmul(h_fc1_drop, W_fc2) + b_fc2)\n",
    "\n",
    "# evaluation#loss function\n",
    "cross_entropy = -tf.reduce_sum(y*tf.log(y_pred))\n",
    "train_step = tf.train.AdamOptimizer(LEARNING_RATE).minimize(cross_entropy)\n",
    "correct_prediction = tf.equal(tf.argmax(y_pred,1), tf.argmax(y,1))\n",
    "accuracy = tf.reduce_mean(tf.cast(correct_prediction, 'float'))\n",
    "\n",
    "\n",
    "\n",
    "\n"
   ]
  },
  {
   "cell_type": "code",
   "execution_count": 104,
   "metadata": {
    "collapsed": false
   },
   "outputs": [
    {
     "name": "stdout",
     "output_type": "stream",
     "text": [
      "33600\n"
     ]
    }
   ],
   "source": [
    "epochs_completed = 0\n",
    "index_in_epoch = 0\n",
    "num_examples = x_train.shape[0]\n",
    "print(num_examples)\n",
    "\n",
    "# serve data by batches\n",
    "def next_batch(batch_size):\n",
    "    \n",
    "    global x_train\n",
    "    global y_train\n",
    "    global index_in_epoch\n",
    "    global epochs_completed\n",
    "    \n",
    "    start = index_in_epoch\n",
    "    index_in_epoch += batch_size\n",
    "    \n",
    "    # when all trainig data have been already used, it is reorder randomly    \n",
    "    if index_in_epoch > num_examples:\n",
    "        # finished epoch\n",
    "        epochs_completed += 1\n",
    "        # shuffle the data\n",
    "        perm = np.arange(num_examples)\n",
    "        np.random.shuffle(perm)\n",
    "        x_train = x_train[perm]\n",
    "        y_train = y_train[perm]\n",
    "        # start next epoch\n",
    "        start = 0\n",
    "        index_in_epoch = batch_size\n",
    "        assert batch_size <= num_examples\n",
    "    end = index_in_epoch\n",
    "    return x_train[start:end], y_train[start:end]"
   ]
  },
  {
   "cell_type": "code",
   "execution_count": 105,
   "metadata": {
    "collapsed": false
   },
   "outputs": [
    {
     "name": "stdout",
     "output_type": "stream",
     "text": [
      "WARNING:tensorflow:From <ipython-input-105-b1d8122bed2f>:2: initialize_all_variables (from tensorflow.python.ops.variables) is deprecated and will be removed after 2017-03-02.\n",
      "Instructions for updating:\n",
      "Use `tf.global_variables_initializer` instead.\n"
     ]
    }
   ],
   "source": [
    "# start TensorFlow session\n",
    "init = tf.initialize_all_variables()\n",
    "sess = tf.InteractiveSession()\n",
    "\n",
    "sess.run(init)"
   ]
  },
  {
   "cell_type": "code",
   "execution_count": 106,
   "metadata": {
    "collapsed": false
   },
   "outputs": [
    {
     "name": "stdout",
     "output_type": "stream",
     "text": [
      "training accuracy / validation accuracy => 0.1200 / 0.0900 for training Loss 773.6810 with step 0\n",
      "training accuracy / validation accuracy => 0.1000 / 0.1200 for training Loss 412.8199 with step 1\n",
      "training accuracy / validation accuracy => 0.1700 / 0.1400 for training Loss 324.1046 with step 2\n",
      "training accuracy / validation accuracy => 0.2200 / 0.2600 for training Loss 333.4185 with step 3\n",
      "training accuracy / validation accuracy => 0.3900 / 0.2800 for training Loss 273.1588 with step 4\n",
      "training accuracy / validation accuracy => 0.2900 / 0.3500 for training Loss 271.2504 with step 5\n",
      "training accuracy / validation accuracy => 0.3700 / 0.4100 for training Loss 245.3569 with step 6\n",
      "training accuracy / validation accuracy => 0.5700 / 0.4500 for training Loss 154.9274 with step 7\n",
      "training accuracy / validation accuracy => 0.4900 / 0.4700 for training Loss 150.2830 with step 8\n",
      "training accuracy / validation accuracy => 0.5500 / 0.5200 for training Loss 124.5091 with step 9\n",
      "training accuracy / validation accuracy => 0.5900 / 0.6200 for training Loss 132.1529 with step 10\n",
      "training accuracy / validation accuracy => 0.7900 / 0.7300 for training Loss 69.5902 with step 20\n",
      "training accuracy / validation accuracy => 0.8400 / 0.7800 for training Loss 70.5955 with step 30\n",
      "training accuracy / validation accuracy => 0.8200 / 0.8400 for training Loss 67.4896 with step 40\n",
      "training accuracy / validation accuracy => 0.8500 / 0.9100 for training Loss 52.7615 with step 50\n",
      "training accuracy / validation accuracy => 0.8600 / 0.9400 for training Loss 44.5429 with step 60\n",
      "training accuracy / validation accuracy => 0.9300 / 0.9500 for training Loss 37.1577 with step 70\n",
      "training accuracy / validation accuracy => 0.9100 / 0.9400 for training Loss 30.0012 with step 80\n",
      "training accuracy / validation accuracy => 0.9100 / 0.9500 for training Loss 30.6712 with step 90\n",
      "training accuracy / validation accuracy => 0.9300 / 0.9500 for training Loss 25.5208 with step 100\n",
      "training accuracy / validation accuracy => 0.9300 / 0.9900 for training Loss 21.4236 with step 200\n",
      "training accuracy / validation accuracy => 0.9800 / 0.9900 for training Loss 14.4034 with step 300\n",
      "training accuracy / validation accuracy => 0.9600 / 0.9900 for training Loss 13.1076 with step 400\n",
      "training accuracy / validation accuracy => 0.9700 / 0.9900 for training Loss 8.7315 with step 500\n",
      "training accuracy / validation accuracy => 0.9800 / 0.9900 for training Loss 4.7180 with step 600\n",
      "training accuracy / validation accuracy => 0.9500 / 0.9900 for training Loss 13.5817 with step 700\n",
      "training accuracy / validation accuracy => 0.9900 / 1.0000 for training Loss 6.3068 with step 800\n",
      "training accuracy / validation accuracy => 0.9700 / 0.9900 for training Loss 12.7768 with step 900\n",
      "training accuracy / validation accuracy => 0.9800 / 0.9900 for training Loss 4.8115 with step 1000\n",
      "training accuracy / validation accuracy => 0.9900 / 1.0000 for training Loss 3.3166 with step 2000\n",
      "training accuracy / validation accuracy => 0.9900 / 0.9900 for training Loss 1.8819 with step 2499\n"
     ]
    }
   ],
   "source": [
    "# visualisation variables\n",
    "train_accuracies = []\n",
    "validation_accuracies = []\n",
    "x_range = []\n",
    "\n",
    "display_step=1\n",
    "\n",
    "for i in range(TRAINING_ITERATIONS):\n",
    "\n",
    "    #get new batch\n",
    "    batch_x, batch_y = next_batch(BATCH_SIZE)        \n",
    "\n",
    "    # print the training accuracy and validation accuracy\n",
    "    if i%display_step == 0 or (i+1) == TRAINING_ITERATIONS:\n",
    "        \n",
    "        train_accuracy = accuracy.eval(feed_dict={x:batch_x, \n",
    "                                                  y: batch_y, \n",
    "                                                  keep_prob: 1.0})       \n",
    "       \n",
    "        validation_accuracy = accuracy.eval(feed_dict={ x: x_val[0:BATCH_SIZE], \n",
    "                                                            y: y_val[0:BATCH_SIZE], \n",
    "                                                            keep_prob: 1.0})               \n",
    "        \n",
    "        trainLoss = sess.run([cross_entropy], feed_dict = {\n",
    "                x: batch_x,\n",
    "                y: batch_y,\n",
    "                keep_prob: 1.0 })\n",
    "        trainLoss = float(trainLoss[0])\n",
    "                \n",
    "        print('training accuracy / validation accuracy => %.4f / %.4f for training Loss %.4f with step %d'%(train_accuracy, validation_accuracy,trainLoss, i))          \n",
    "        validation_accuracies.append(validation_accuracy)\n",
    "        train_accuracies.append(train_accuracy)\n",
    "        x_range.append(i)\n",
    "        \n",
    "        # increase display_step\n",
    "        if i%(display_step*10) == 0 and i:\n",
    "            display_step *= 10\n",
    "    # train on batch\n",
    "    sess.run(train_step, feed_dict={x: batch_x, y: batch_y, keep_prob: DROPOUT})"
   ]
  },
  {
   "cell_type": "code",
   "execution_count": 109,
   "metadata": {
    "collapsed": false
   },
   "outputs": [
    {
     "name": "stdout",
     "output_type": "stream",
     "text": [
      "validation_accuracy => 0.9945\n",
      "train_accuracy_accuracy => 0.9900\n"
     ]
    },
    {
     "data": {
      "image/png": "[encoded data removed]",
      "text/plain": [
       "<matplotlib.figure.Figure at 0xc187e3c400>"
      ]
     },
     "metadata": {},
     "output_type": "display_data"
    }
   ],
   "source": [
    "validation_accuracy = accuracy.eval(feed_dict={x: validation_images, \n",
    "                                               y: validation_labels, \n",
    "                                               keep_prob: 1.0})\n",
    "print('validation_accuracy => %.4f'%validation_accuracy)\n",
    "print('train_accuracy_accuracy => %.4f'%train_accuracy)\n",
    "plt.plot(x_range, train_accuracies,'-b', label='Training')\n",
    "plt.plot(x_range, validation_accuracies,'-g', label='Validation')\n",
    "plt.legend(loc='lower right', frameon=False)\n",
    "plt.ylim(ymax = 1.1, ymin = 0.7)\n",
    "plt.ylabel('accuracy')\n",
    "plt.xlabel('step')\n",
    "plt.show()"
   ]
  },
  {
   "cell_type": "code",
   "execution_count": 110,
   "metadata": {
    "collapsed": false
   },
   "outputs": [
    {
     "name": "stdout",
     "output_type": "stream",
     "text": [
      "test_images(28000,784)\n",
      "predicted_lables(28000)\n",
      "predicted_lables[10] => 5.0\n"
     ]
    },
    {
     "data": {
      "image/png": "[encoded data removed]",
      "text/plain": [
       "<matplotlib.figure.Figure at 0xc187dacb38>"
      ]
     },
     "metadata": {},
     "output_type": "display_data"
    }
   ],
   "source": [
    "test_images = test.values.astype('float32')\n",
    "test_images = np.multiply(test_images, 1.0 / 255.0)\n",
    "predict = tf.argmax(y_pred,1)\n",
    "\n",
    "print('test_images({0[0]},{0[1]})'.format(test_images.shape))\n",
    "\n",
    "\n",
    "# predict test set\n",
    "predicted_lables = np.zeros(test_images.shape[0])\n",
    "for i in range(0,test_images.shape[0]//BATCH_SIZE):\n",
    "    predicted_lables[i*BATCH_SIZE : (i+1)*BATCH_SIZE] = predict.eval(feed_dict={x: test_images[i*BATCH_SIZE:(i+1)*BATCH_SIZE], keep_prob: 1.0})    \n",
    "\n",
    "print('predicted_lables({0})'.format(len(predicted_lables)))\n",
    "\n",
    "# output test image and prediction\n",
    "display(test_images[IMAGE_TO_DISPLAY])\n",
    "print ('predicted_lables[{0}] => {1}'.format(IMAGE_TO_DISPLAY,predicted_lables[IMAGE_TO_DISPLAY]))\n",
    "\n",
    "# save results\n",
    "np.savetxt('cnn_2layer.csv', \n",
    "           np.c_[range(1,len(test_images)+1),predicted_lables], \n",
    "           delimiter=',', \n",
    "           header = 'ImageId,Label', \n",
    "           comments = '', \n",
    "           fmt='%d')"
   ]
  },
  {
   "cell_type": "code",
   "execution_count": null,
   "metadata": {
    "collapsed": true
   },
   "outputs": [],
   "source": []
  }
 ],
 "metadata": {
  "anaconda-cloud": {},
  "kernelspec": {
   "display_name": "Python [conda root]",
   "language": "python",
   "name": "conda-root-py"
  },
  "language_info": {
   "codemirror_mode": {
    "name": "ipython",
    "version": 3
   },
   "file_extension": ".py",
   "mimetype": "text/x-python",
   "name": "python",
   "nbconvert_exporter": "python",
   "pygments_lexer": "ipython3",
   "version": "3.5.2"
  }
 },
 "nbformat": 4,
 "nbformat_minor": 1
}
